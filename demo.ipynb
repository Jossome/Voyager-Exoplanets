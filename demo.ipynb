{
 "cells": [
  {
   "cell_type": "markdown",
   "metadata": {},
   "source": [
    "# Voyager for Exoplanets: Mining on Imbalanced Data"
   ]
  },
  {
   "cell_type": "code",
   "execution_count": 1,
   "metadata": {
    "collapsed": true
   },
   "outputs": [],
   "source": [
    "import voyager"
   ]
  },
  {
   "cell_type": "code",
   "execution_count": 2,
   "metadata": {
    "scrolled": false
   },
   "outputs": [
    {
     "data": {
      "text/plain": [
       "mappingproxy({'__dict__': <attribute '__dict__' of 'MultiUnderSamplerEstimator' objects>,\n",
       "              '__doc__': None,\n",
       "              '__init__': <function voyager.MultiUnderSamplerEstimator.__init__>,\n",
       "              '__module__': 'voyager',\n",
       "              '__weakref__': <attribute '__weakref__' of 'MultiUnderSamplerEstimator' objects>,\n",
       "              'fit': <function voyager.MultiUnderSamplerEstimator.fit>,\n",
       "              'predict': <function voyager.MultiUnderSamplerEstimator.predict>,\n",
       "              'predict_proba': <function voyager.MultiUnderSamplerEstimator.predict_proba>})"
      ]
     },
     "execution_count": 2,
     "metadata": {},
     "output_type": "execute_result"
    }
   ],
   "source": [
    "voyager.MultiUnderSamplerEstimator.__dict__"
   ]
  },
  {
   "cell_type": "markdown",
   "metadata": {},
   "source": [
    "## Ensemble of under sampling SVM:\n",
    "- If we use only one-time under sampling, the results will be randomized.\n",
    "- If we use over sampling, like SMOTE, the model will be over fitted.\n",
    "- Ensemble:\n",
    "    - Idea of bagging.\n",
    "    - We under sample the dataset and train the sampled data using SVM. We do this 100 times.\n",
    "    - For the generated 100 models, we score them using AUC score obtained by 10-fold cross validation.\n",
    "    - The higher a model's score is, the heavier weight it will be assigned to evaluate the final results.\n",
    "    - Predict:\n",
    "        - If probability = False, then the results will be 0/1 binary. If the score > 0.5, then 1, else 0.\n",
    "        - If we set probability = True, then results will be the probability. \n",
    "        - We can set the probability threshold that we want to get the expected results."
   ]
  },
  {
   "cell_type": "code",
   "execution_count": 3,
   "metadata": {
    "scrolled": true
   },
   "outputs": [
    {
     "name": "stdout",
     "output_type": "stream",
     "text": [
      "Accuracy on whether exoplanet or not: 0.99\n",
      "Accuracy on test: 0.98\n",
      "kepler_train_test execution time: 1.49 s\n"
     ]
    }
   ],
   "source": [
    "voyager.kepler_train_test()"
   ]
  },
  {
   "cell_type": "markdown",
   "metadata": {},
   "source": [
    "- Here, we divide the kepler candidate into train and test (70%/30%).\n",
    "- This tests on the accuracy of classifying exoplanets and non-exoplanet objects.\n",
    "- Result is quite promising"
   ]
  },
  {
   "cell_type": "code",
   "execution_count": 4,
   "metadata": {},
   "outputs": [
    {
     "name": "stdout",
     "output_type": "stream",
     "text": [
      "Accuracy on whether exoplanet or not: 0.99\n",
      "75.22% of the candidates are comfirmed.\n",
      "19.52% of the confirmed planets are habitable.\n",
      "4.61% of the confirmed planets have 99.00% probability habitable.\n",
      "kepler_candidate_dataset execution time: 9.74 s\n"
     ]
    },
    {
     "data": {
      "text/html": [
       "<div>\n",
       "<style>\n",
       "    .dataframe thead tr:only-child th {\n",
       "        text-align: right;\n",
       "    }\n",
       "\n",
       "    .dataframe thead th {\n",
       "        text-align: left;\n",
       "    }\n",
       "\n",
       "    .dataframe tbody tr th {\n",
       "        vertical-align: top;\n",
       "    }\n",
       "</style>\n",
       "<table border=\"1\" class=\"dataframe\">\n",
       "  <thead>\n",
       "    <tr style=\"text-align: right;\">\n",
       "      <th></th>\n",
       "      <th>kepid</th>\n",
       "      <th>koi_score</th>\n",
       "      <th>koi_fpflag_nt</th>\n",
       "      <th>koi_fpflag_ss</th>\n",
       "      <th>koi_fpflag_co</th>\n",
       "      <th>koi_fpflag_ec</th>\n",
       "      <th>koi_period</th>\n",
       "      <th>koi_period_err1</th>\n",
       "      <th>koi_period_err2</th>\n",
       "      <th>koi_time0bk</th>\n",
       "      <th>...</th>\n",
       "      <th>koi_dicco_msky</th>\n",
       "      <th>koi_dicco_msky_err</th>\n",
       "      <th>koi_dikco_mra</th>\n",
       "      <th>koi_dikco_mra_err</th>\n",
       "      <th>koi_dikco_mdec</th>\n",
       "      <th>koi_dikco_mdec_err</th>\n",
       "      <th>koi_dikco_msky</th>\n",
       "      <th>koi_dikco_msky_err</th>\n",
       "      <th>habitable</th>\n",
       "      <th>pre_confirmed</th>\n",
       "    </tr>\n",
       "  </thead>\n",
       "  <tbody>\n",
       "  </tbody>\n",
       "</table>\n",
       "<p>0 rows × 107 columns</p>\n",
       "</div>"
      ],
      "text/plain": [
       "Empty DataFrame\n",
       "Columns: [kepid, koi_score, koi_fpflag_nt, koi_fpflag_ss, koi_fpflag_co, koi_fpflag_ec, koi_period, koi_period_err1, koi_period_err2, koi_time0bk, koi_time0bk_err1, koi_time0bk_err2, koi_time0, koi_time0_err1, koi_time0_err2, koi_eccen, koi_impact, koi_impact_err1, koi_impact_err2, koi_duration, koi_duration_err1, koi_duration_err2, koi_depth, koi_depth_err1, koi_depth_err2, koi_ror, koi_ror_err1, koi_ror_err2, koi_srho, koi_srho_err1, koi_srho_err2, koi_prad, koi_prad_err1, koi_prad_err2, koi_sma, koi_incl, koi_teq, koi_insol, koi_insol_err1, koi_insol_err2, koi_dor, koi_dor_err1, koi_dor_err2, koi_ldm_coeff4, koi_ldm_coeff3, koi_ldm_coeff2, koi_ldm_coeff1, koi_max_sngle_ev, koi_max_mult_ev, koi_model_snr, koi_count, koi_num_transits, koi_tce_plnt_num, koi_quarters, koi_bin_oedp_sig, koi_steff, koi_steff_err1, koi_steff_err2, koi_slogg, koi_slogg_err1, koi_slogg_err2, koi_smet, koi_smet_err1, koi_smet_err2, koi_srad, koi_srad_err1, koi_srad_err2, koi_smass, koi_smass_err1, koi_smass_err2, ra, dec, koi_kepmag, koi_gmag, koi_rmag, koi_imag, koi_zmag, koi_jmag, koi_hmag, koi_kmag, koi_fwm_stat_sig, koi_fwm_sra, koi_fwm_sra_err, koi_fwm_sdec, koi_fwm_sdec_err, koi_fwm_srao, koi_fwm_srao_err, koi_fwm_sdeco, koi_fwm_sdeco_err, koi_fwm_prao, koi_fwm_prao_err, koi_fwm_pdeco, koi_fwm_pdeco_err, koi_dicco_mra, koi_dicco_mra_err, koi_dicco_mdec, koi_dicco_mdec_err, koi_dicco_msky, koi_dicco_msky_err, koi_dikco_mra, ...]\n",
       "Index: []\n",
       "\n",
       "[0 rows x 107 columns]"
      ]
     },
     "execution_count": 4,
     "metadata": {},
     "output_type": "execute_result"
    }
   ],
   "source": [
    "voyager.kepler_candidate_dataset(probability = 0.99)"
   ]
  },
  {
   "cell_type": "markdown",
   "metadata": {},
   "source": [
    "- We can set whether to use ensemble to make comparisons.\n",
    "- First, we train a model to distinguish exoplanets, and use it on candidates.\n",
    "- Then, we train a model using the confirmed data to distinguish habitable exoplanets.\n",
    "- After that, we use the second model on the pre-confirmed exoplanets and see if they are habitable or not.\n",
    "- Note that we can control the probability here to get different results.\n",
    "- Since the probability is too high, there should be more work to carry on, like gathering more data, or getting more deterministic attributes.\n",
    "- Output is useless."
   ]
  },
  {
   "cell_type": "code",
   "execution_count": 12,
   "metadata": {
    "scrolled": true
   },
   "outputs": [
    {
     "name": "stdout",
     "output_type": "stream",
     "text": [
      "Accuracy on whether exoplanet or not: 0.99\n",
      "75.22% of the candidates are comfirmed.\n",
      "Recall: 0.87\n",
      "26.91% of the confirmed planets are habitable.\n",
      "7.87% of the confirmed planets have 99.00% probability habitable.\n",
      "kepler_candidate_dataset execution time: 6.29 s\n"
     ]
    },
    {
     "data": {
      "text/html": [
       "<div>\n",
       "<style>\n",
       "    .dataframe thead tr:only-child th {\n",
       "        text-align: right;\n",
       "    }\n",
       "\n",
       "    .dataframe thead th {\n",
       "        text-align: left;\n",
       "    }\n",
       "\n",
       "    .dataframe tbody tr th {\n",
       "        vertical-align: top;\n",
       "    }\n",
       "</style>\n",
       "<table border=\"1\" class=\"dataframe\">\n",
       "  <thead>\n",
       "    <tr style=\"text-align: right;\">\n",
       "      <th></th>\n",
       "      <th>kepid</th>\n",
       "      <th>koi_score</th>\n",
       "      <th>koi_fpflag_nt</th>\n",
       "      <th>koi_fpflag_ss</th>\n",
       "      <th>koi_fpflag_co</th>\n",
       "      <th>koi_fpflag_ec</th>\n",
       "      <th>koi_period</th>\n",
       "      <th>koi_period_err1</th>\n",
       "      <th>koi_period_err2</th>\n",
       "      <th>koi_time0bk</th>\n",
       "      <th>...</th>\n",
       "      <th>koi_dicco_msky</th>\n",
       "      <th>koi_dicco_msky_err</th>\n",
       "      <th>koi_dikco_mra</th>\n",
       "      <th>koi_dikco_mra_err</th>\n",
       "      <th>koi_dikco_mdec</th>\n",
       "      <th>koi_dikco_mdec_err</th>\n",
       "      <th>koi_dikco_msky</th>\n",
       "      <th>koi_dikco_msky_err</th>\n",
       "      <th>habitable</th>\n",
       "      <th>pre_confirmed</th>\n",
       "    </tr>\n",
       "  </thead>\n",
       "  <tbody>\n",
       "  </tbody>\n",
       "</table>\n",
       "<p>0 rows × 107 columns</p>\n",
       "</div>"
      ],
      "text/plain": [
       "Empty DataFrame\n",
       "Columns: [kepid, koi_score, koi_fpflag_nt, koi_fpflag_ss, koi_fpflag_co, koi_fpflag_ec, koi_period, koi_period_err1, koi_period_err2, koi_time0bk, koi_time0bk_err1, koi_time0bk_err2, koi_time0, koi_time0_err1, koi_time0_err2, koi_eccen, koi_impact, koi_impact_err1, koi_impact_err2, koi_duration, koi_duration_err1, koi_duration_err2, koi_depth, koi_depth_err1, koi_depth_err2, koi_ror, koi_ror_err1, koi_ror_err2, koi_srho, koi_srho_err1, koi_srho_err2, koi_prad, koi_prad_err1, koi_prad_err2, koi_sma, koi_incl, koi_teq, koi_insol, koi_insol_err1, koi_insol_err2, koi_dor, koi_dor_err1, koi_dor_err2, koi_ldm_coeff4, koi_ldm_coeff3, koi_ldm_coeff2, koi_ldm_coeff1, koi_max_sngle_ev, koi_max_mult_ev, koi_model_snr, koi_count, koi_num_transits, koi_tce_plnt_num, koi_quarters, koi_bin_oedp_sig, koi_steff, koi_steff_err1, koi_steff_err2, koi_slogg, koi_slogg_err1, koi_slogg_err2, koi_smet, koi_smet_err1, koi_smet_err2, koi_srad, koi_srad_err1, koi_srad_err2, koi_smass, koi_smass_err1, koi_smass_err2, ra, dec, koi_kepmag, koi_gmag, koi_rmag, koi_imag, koi_zmag, koi_jmag, koi_hmag, koi_kmag, koi_fwm_stat_sig, koi_fwm_sra, koi_fwm_sra_err, koi_fwm_sdec, koi_fwm_sdec_err, koi_fwm_srao, koi_fwm_srao_err, koi_fwm_sdeco, koi_fwm_sdeco_err, koi_fwm_prao, koi_fwm_prao_err, koi_fwm_pdeco, koi_fwm_pdeco_err, koi_dicco_mra, koi_dicco_mra_err, koi_dicco_mdec, koi_dicco_mdec_err, koi_dicco_msky, koi_dicco_msky_err, koi_dikco_mra, ...]\n",
       "Index: []\n",
       "\n",
       "[0 rows x 107 columns]"
      ]
     },
     "execution_count": 12,
     "metadata": {},
     "output_type": "execute_result"
    }
   ],
   "source": [
    "voyager.kepler_candidate_dataset(ensemble = False, probability = 0.99)"
   ]
  },
  {
   "cell_type": "markdown",
   "metadata": {},
   "source": [
    "- Just an un-ensembled test. to show that ensembles can be more robust, reduce the side effect of random sampling."
   ]
  },
  {
   "cell_type": "code",
   "execution_count": 5,
   "metadata": {},
   "outputs": [
    {
     "name": "stdout",
     "output_type": "stream",
     "text": [
      "85.37% of the habitable planets are classified correctly.\n",
      "confirmed_exoplanets_dataset_onebyone execution time: 178.92 s\n"
     ]
    }
   ],
   "source": [
    "voyager.confirmed_exoplanets_dataset_onebyone()"
   ]
  },
  {
   "cell_type": "markdown",
   "metadata": {},
   "source": [
    "- On confirmed dataset, pick out the habitable planets one by one\n",
    "- Then use the picked-out sample as test sample, see if it will be classified correctly.\n",
    "- If we use SMOTE, the result will be near 0. It means that ensemble of undersamping is better."
   ]
  },
  {
   "cell_type": "code",
   "execution_count": 11,
   "metadata": {},
   "outputs": [
    {
     "name": "stdout",
     "output_type": "stream",
     "text": [
      "Recall: 0.70\n",
      "Recall: 0.75\n",
      "Recall: 0.70\n",
      "Recall: 0.72\n",
      "Recall: 0.75\n",
      "Recall: 0.80\n",
      "Recall: 0.45\n",
      "Recall: 0.68\n",
      "Recall: 0.75\n",
      "Recall: 0.72\n",
      "Recall: 0.72\n",
      "Recall: 0.62\n",
      "Recall: 0.68\n",
      "Recall: 0.88\n",
      "Recall: 0.82\n",
      "Recall: 0.80\n",
      "Recall: 0.82\n",
      "Recall: 0.78\n",
      "Recall: 0.78\n",
      "Recall: 0.75\n",
      "Recall: 0.70\n",
      "Recall: 0.62\n",
      "Recall: 0.75\n",
      "Recall: 0.70\n",
      "Recall: 0.72\n",
      "Recall: 0.62\n",
      "Recall: 0.70\n",
      "Recall: 0.80\n",
      "Recall: 0.75\n",
      "Recall: 0.78\n",
      "Recall: 0.68\n",
      "Recall: 0.68\n",
      "Recall: 0.80\n",
      "Recall: 0.72\n",
      "Recall: 0.75\n",
      "Recall: 0.75\n",
      "Recall: 0.85\n",
      "Recall: 0.68\n",
      "Recall: 0.80\n",
      "Recall: 0.78\n",
      "Recall: 0.68\n",
      "78.05% of the habitable planets are classified correctly.\n",
      "confirmed_exoplanets_dataset_onebyone execution time: 6.37 s\n"
     ]
    }
   ],
   "source": [
    "voyager.confirmed_exoplanets_dataset_onebyone(ensemble = False)"
   ]
  },
  {
   "cell_type": "markdown",
   "metadata": {},
   "source": [
    "- Of course, if we do not use ensemble, the result is still ok, but not that robust. It will vary per training."
   ]
  },
  {
   "cell_type": "code",
   "execution_count": null,
   "metadata": {
    "collapsed": true
   },
   "outputs": [],
   "source": []
  }
 ],
 "metadata": {
  "kernelspec": {
   "display_name": "Python 3",
   "language": "python",
   "name": "python3"
  },
  "language_info": {
   "codemirror_mode": {
    "name": "ipython",
    "version": 3
   },
   "file_extension": ".py",
   "mimetype": "text/x-python",
   "name": "python",
   "nbconvert_exporter": "python",
   "pygments_lexer": "ipython3",
   "version": "3.6.1"
  }
 },
 "nbformat": 4,
 "nbformat_minor": 2
}
